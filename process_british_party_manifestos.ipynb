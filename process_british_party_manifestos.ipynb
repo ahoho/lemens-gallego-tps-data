{
 "cells": [
  {
   "cell_type": "markdown",
   "id": "34218aba",
   "metadata": {},
   "source": [
    "<!-- In this notebook we analyze the responses from both human participants and models to the question how typical is this text from the concept X -->"
   ]
  },
  {
   "cell_type": "markdown",
   "id": "6223c0b5",
   "metadata": {},
   "source": [
    "**Author**: Gaël Le Mens, Universitat Pompeu Fabra\n",
    "\n",
    "*Updated by Alexander Hoyle 2025-09-08 to filter to high-agreement expert data*\n",
    "\n",
    "**Date**: 2024/08/16\n",
    "\n",
    "**Description:** Loads the position scores produced by  LLMS and compares them to the positions produced by experts and crowdsourced estimates in Benoît et al (ASPR, 2016).\n",
    "\n",
    "Select the policy dimension and whether to analyze the case in which the policy dimension is included in the prompt by commenting out the appropriate lines in section '1. Analysis mode'\n"
   ]
  },
  {
   "cell_type": "code",
   "execution_count": 1,
   "id": "fe6dcd72",
   "metadata": {},
   "outputs": [],
   "source": [
    "import pandas as pd\n",
    "import numpy as np"
   ]
  },
  {
   "cell_type": "markdown",
   "id": "3bd68e24",
   "metadata": {},
   "source": [
    "# Paths for where to load the data\n"
   ]
  },
  {
   "cell_type": "code",
   "execution_count": 2,
   "id": "318a0d7d",
   "metadata": {},
   "outputs": [],
   "source": [
    "data_rel_path = \"./british-party-manifestos/\"\n",
    "data_from_Benoit_et_al_2016_rel_path = data_rel_path + \"data_from_Benoit_et_al_2016/\" \n",
    "\n",
    "data_analysis_path_rel_path = data_rel_path + \"data_analysis/\""
   ]
  },
  {
   "cell_type": "markdown",
   "id": "dbd92455-af20-47bf-8191-07830dd42a0f",
   "metadata": {},
   "source": [
    "# Data loading"
   ]
  },
  {
   "cell_type": "markdown",
   "id": "65ceee93-f86c-403a-8c21-2da211b2ae1b",
   "metadata": {},
   "source": [
    "## parameters"
   ]
  },
  {
   "cell_type": "code",
   "execution_count": 3,
   "id": "cd347752-ef2d-401f-9f4d-ae5ee174166c",
   "metadata": {},
   "outputs": [
    {
     "data": {
      "text/plain": [
       "18263"
      ]
     },
     "metadata": {},
     "output_type": "display_data"
    },
    {
     "data": {
      "text/plain": [
       "Index(['id', 'textid', 'party', 'year', 'sentence_text_old', 'sentence_nchars',\n",
       "       'sentence_nwords', 'sentence_mean_word_length', 'total_syllables',\n",
       "       'n_complex_words', 'nouns', 'verbs', 'adjs', 'advs', 'propnouns',\n",
       "       'truncated', 'sentence_text', 'policy_area_gold', 'econ_scale_gold',\n",
       "       'soc_scale_gold', 'X_gold', 'pre_sentence', 'post_sentence',\n",
       "       'policy_area_gold_reason'],\n",
       "      dtype='object')"
      ]
     },
     "metadata": {},
     "output_type": "display_data"
    }
   ],
   "source": [
    "INFO_PATH_PARTY_MANIFESTO_UK_SENTENCES = data_from_Benoit_et_al_2016_rel_path+\"master.sentences.csv\"\n",
    "\n",
    "human_data_long_path = data_from_Benoit_et_al_2016_rel_path + \"coding_all_long_2014-03-14.csv\"\n",
    "human_data_wide_path = data_from_Benoit_et_al_2016_rel_path + \"coding_all_wide_2014-03-14.csv\"\n",
    "\n",
    "info = pd.read_csv(INFO_PATH_PARTY_MANIFESTO_UK_SENTENCES, dtype={\"sentenceid\": str}, index_col=0)\n",
    "info.rename(columns={\"sentenceid\": \"id\", 'manifestoid': 'textid'}, inplace=True)\n",
    "\n",
    "display(len(info))\n",
    "display(info.columns)"
   ]
  },
  {
   "cell_type": "markdown",
   "id": "7e43136c-4cda-4dfa-898c-4f66f9856a38",
   "metadata": {},
   "source": [
    "## read data"
   ]
  },
  {
   "cell_type": "code",
   "execution_count": 4,
   "id": "39747d86-5198-4cb2-925e-08609de6cee0",
   "metadata": {},
   "outputs": [
    {
     "data": {
      "text/plain": [
       "346793"
      ]
     },
     "metadata": {},
     "output_type": "display_data"
    },
    {
     "data": {
      "text/plain": [
       "346793"
      ]
     },
     "metadata": {},
     "output_type": "display_data"
    },
    {
     "data": {
      "text/plain": [
       "344839"
      ]
     },
     "metadata": {},
     "output_type": "display_data"
    },
    {
     "data": {
      "text/plain": [
       "18263"
      ]
     },
     "metadata": {},
     "output_type": "display_data"
    },
    {
     "data": {
      "text/plain": [
       "None        164847\n",
       "Economic    117030\n",
       "Social       62962\n",
       "Name: policy_area, dtype: int64"
      ]
     },
     "metadata": {},
     "output_type": "display_data"
    },
    {
     "data": {
      "text/plain": [
       "None        164847\n",
       "Economic    117030\n",
       "Social       62962\n",
       "Name: policy_area, dtype: int64"
      ]
     },
     "metadata": {},
     "output_type": "display_data"
    }
   ],
   "source": [
    "pd.set_option('display.max_colwidth', None)\n",
    "pd.set_option('display.max_columns', None)\n",
    "\n",
    "human_data_long = pd.read_csv(human_data_long_path, dtype = {\"sentenceid\": str, \"codingid\": str, \"coderid\": str, \"manifestoid\": str}, low_memory=False)\n",
    "human_data_long.rename(columns={\"sentenceid\": \"id\", 'manifestoid': 'objectid'}, inplace=True)\n",
    "display(len(human_data_long))\n",
    "#human_data_long = human_data_long.loc[(human_data_long['source']==SOURCE),:]\n",
    "display(len(human_data_long))\n",
    "# display(len(human_data_long))\n",
    "human_data_long['pos_human'] = human_data_long['code']\n",
    "human_data_long['policy_area'] = human_data_long['scale']\n",
    "human_data_long[['nb_responses_human']]=1\n",
    "human_data_long = human_data_long.merge(info[['id','sentence_text']], on = 'id', how = 'right')\n",
    "display(len(human_data_long))\n",
    "display(human_data_long['id'].nunique())\n",
    "display(human_data_long['policy_area'].value_counts())\n",
    "# if MODE == \"UK_Economic\":\n",
    "#     human_data_long = human_data_long[human_data_long['policy_area']==\"Economic\"]\n",
    "# elif MODE == \"UK_Social\":\n",
    "#     human_data_long = human_data_long[human_data_long['policy_area']==\"Social\"]\n",
    "display(human_data_long['policy_area'].value_counts())\n"
   ]
  },
  {
   "cell_type": "code",
   "execution_count": 5,
   "id": "182e2d90-e7b0-4f2f-854d-cf3b20608531",
   "metadata": {},
   "outputs": [
    {
     "data": {
      "text/html": [
       "<div>\n",
       "<style scoped>\n",
       "    .dataframe tbody tr th:only-of-type {\n",
       "        vertical-align: middle;\n",
       "    }\n",
       "\n",
       "    .dataframe tbody tr th {\n",
       "        vertical-align: top;\n",
       "    }\n",
       "\n",
       "    .dataframe thead th {\n",
       "        text-align: right;\n",
       "    }\n",
       "</style>\n",
       "<table border=\"1\" class=\"dataframe\">\n",
       "  <thead>\n",
       "    <tr style=\"text-align: right;\">\n",
       "      <th></th>\n",
       "      <th>id</th>\n",
       "      <th>source</th>\n",
       "      <th>policy_area</th>\n",
       "      <th>coderid</th>\n",
       "      <th>pos_human</th>\n",
       "      <th>party</th>\n",
       "      <th>year</th>\n",
       "      <th>sentence_text</th>\n",
       "    </tr>\n",
       "  </thead>\n",
       "  <tbody>\n",
       "    <tr>\n",
       "      <th>30</th>\n",
       "      <td>10000011</td>\n",
       "      <td>Experts</td>\n",
       "      <td>Social</td>\n",
       "      <td>Ken</td>\n",
       "      <td>1.0</td>\n",
       "      <td>Conservatives</td>\n",
       "      <td>1987</td>\n",
       "      <td>We have discovered a new strength and a new pride.</td>\n",
       "    </tr>\n",
       "    <tr>\n",
       "      <th>60</th>\n",
       "      <td>10000021</td>\n",
       "      <td>Experts</td>\n",
       "      <td>Economic</td>\n",
       "      <td>Ken</td>\n",
       "      <td>1.0</td>\n",
       "      <td>Conservatives</td>\n",
       "      <td>1987</td>\n",
       "      <td>We have fostered a new spirit of enterprise.</td>\n",
       "    </tr>\n",
       "    <tr>\n",
       "      <th>61</th>\n",
       "      <td>10000021</td>\n",
       "      <td>Experts</td>\n",
       "      <td>Economic</td>\n",
       "      <td>Mik</td>\n",
       "      <td>1.0</td>\n",
       "      <td>Conservatives</td>\n",
       "      <td>1987</td>\n",
       "      <td>We have fostered a new spirit of enterprise.</td>\n",
       "    </tr>\n",
       "    <tr>\n",
       "      <th>63</th>\n",
       "      <td>10000021</td>\n",
       "      <td>Experts</td>\n",
       "      <td>Economic</td>\n",
       "      <td>Pablo</td>\n",
       "      <td>1.0</td>\n",
       "      <td>Conservatives</td>\n",
       "      <td>1987</td>\n",
       "      <td>We have fostered a new spirit of enterprise.</td>\n",
       "    </tr>\n",
       "    <tr>\n",
       "      <th>64</th>\n",
       "      <td>10000021</td>\n",
       "      <td>Experts</td>\n",
       "      <td>Economic</td>\n",
       "      <td>Pablo</td>\n",
       "      <td>1.0</td>\n",
       "      <td>Conservatives</td>\n",
       "      <td>1987</td>\n",
       "      <td>We have fostered a new spirit of enterprise.</td>\n",
       "    </tr>\n",
       "    <tr>\n",
       "      <th>...</th>\n",
       "      <td>...</td>\n",
       "      <td>...</td>\n",
       "      <td>...</td>\n",
       "      <td>...</td>\n",
       "      <td>...</td>\n",
       "      <td>...</td>\n",
       "      <td>...</td>\n",
       "      <td>...</td>\n",
       "    </tr>\n",
       "    <tr>\n",
       "      <th>344805</th>\n",
       "      <td>1180013451</td>\n",
       "      <td>Crowd</td>\n",
       "      <td>Social</td>\n",
       "      <td>1.40e+07</td>\n",
       "      <td>2.0</td>\n",
       "      <td>Labour</td>\n",
       "      <td>2010</td>\n",
       "      <td>Use our international reach to build security and stability - combating terrorism and extremism, curbing proliferation, preventing and resolving conflict, and tackling climate change.</td>\n",
       "    </tr>\n",
       "    <tr>\n",
       "      <th>344813</th>\n",
       "      <td>1180013461</td>\n",
       "      <td>Crowd</td>\n",
       "      <td>Economic</td>\n",
       "      <td>1.10e+07</td>\n",
       "      <td>-1.0</td>\n",
       "      <td>Labour</td>\n",
       "      <td>2010</td>\n",
       "      <td>Lead the agenda for an outward-facing European Union that delivers jobs, prosperity and global influence.</td>\n",
       "    </tr>\n",
       "    <tr>\n",
       "      <th>344819</th>\n",
       "      <td>1180013471</td>\n",
       "      <td>Experts</td>\n",
       "      <td>Economic</td>\n",
       "      <td>Pablo</td>\n",
       "      <td>-1.0</td>\n",
       "      <td>Labour</td>\n",
       "      <td>2010</td>\n",
       "      <td>Re-energise the drive to achieve the Millennium Development Goals, supporting sustainable growth and combating poverty.</td>\n",
       "    </tr>\n",
       "    <tr>\n",
       "      <th>344826</th>\n",
       "      <td>1180013471</td>\n",
       "      <td>Crowd</td>\n",
       "      <td>Economic</td>\n",
       "      <td>1.13e+07</td>\n",
       "      <td>0.0</td>\n",
       "      <td>Labour</td>\n",
       "      <td>2010</td>\n",
       "      <td>Re-energise the drive to achieve the Millennium Development Goals, supporting sustainable growth and combating poverty.</td>\n",
       "    </tr>\n",
       "    <tr>\n",
       "      <th>344834</th>\n",
       "      <td>1180013481</td>\n",
       "      <td>Crowd</td>\n",
       "      <td>Economic</td>\n",
       "      <td>1.10e+07</td>\n",
       "      <td>-1.0</td>\n",
       "      <td>Labour</td>\n",
       "      <td>2010</td>\n",
       "      <td>Reform the UN, International Financial Institutions, the G8 and G20, and NATO to adapt to the new global challenges.</td>\n",
       "    </tr>\n",
       "  </tbody>\n",
       "</table>\n",
       "<p>179992 rows × 8 columns</p>\n",
       "</div>"
      ],
      "text/plain": [
       "                id   source policy_area   coderid  pos_human          party  \\\n",
       "30        10000011  Experts      Social       Ken        1.0  Conservatives   \n",
       "60        10000021  Experts    Economic       Ken        1.0  Conservatives   \n",
       "61        10000021  Experts    Economic       Mik        1.0  Conservatives   \n",
       "63        10000021  Experts    Economic     Pablo        1.0  Conservatives   \n",
       "64        10000021  Experts    Economic     Pablo        1.0  Conservatives   \n",
       "...            ...      ...         ...       ...        ...            ...   \n",
       "344805  1180013451    Crowd      Social  1.40e+07        2.0         Labour   \n",
       "344813  1180013461    Crowd    Economic  1.10e+07       -1.0         Labour   \n",
       "344819  1180013471  Experts    Economic     Pablo       -1.0         Labour   \n",
       "344826  1180013471    Crowd    Economic  1.13e+07        0.0         Labour   \n",
       "344834  1180013481    Crowd    Economic  1.10e+07       -1.0         Labour   \n",
       "\n",
       "        year  \\\n",
       "30      1987   \n",
       "60      1987   \n",
       "61      1987   \n",
       "63      1987   \n",
       "64      1987   \n",
       "...      ...   \n",
       "344805  2010   \n",
       "344813  2010   \n",
       "344819  2010   \n",
       "344826  2010   \n",
       "344834  2010   \n",
       "\n",
       "                                                                                                                                                                                  sentence_text  \n",
       "30                                                                                                                                           We have discovered a new strength and a new pride.  \n",
       "60                                                                                                                                                 We have fostered a new spirit of enterprise.  \n",
       "61                                                                                                                                                 We have fostered a new spirit of enterprise.  \n",
       "63                                                                                                                                                 We have fostered a new spirit of enterprise.  \n",
       "64                                                                                                                                                 We have fostered a new spirit of enterprise.  \n",
       "...                                                                                                                                                                                         ...  \n",
       "344805  Use our international reach to build security and stability - combating terrorism and extremism, curbing proliferation, preventing and resolving conflict, and tackling climate change.  \n",
       "344813                                                                                Lead the agenda for an outward-facing European Union that delivers jobs, prosperity and global influence.  \n",
       "344819                                                                  Re-energise the drive to achieve the Millennium Development Goals, supporting sustainable growth and combating poverty.  \n",
       "344826                                                                  Re-energise the drive to achieve the Millennium Development Goals, supporting sustainable growth and combating poverty.  \n",
       "344834                                                                  Reform the UN, International Financial Institutions, the G8 and G20, and NATO to adapt to the new global challenges.     \n",
       "\n",
       "[179992 rows x 8 columns]"
      ]
     },
     "metadata": {},
     "output_type": "display_data"
    }
   ],
   "source": [
    "# all ratings\n",
    "human_pos_ratings = human_data_long[['id','source','policy_area','coderid','pos_human','party','year','sentence_text']].sort_index().dropna(subset=['pos_human'])\n",
    "display(human_pos_ratings)"
   ]
  },
  {
   "cell_type": "code",
   "execution_count": 6,
   "id": "d8becc3d",
   "metadata": {},
   "outputs": [],
   "source": [
    "human_pos_ratings[\"label\"] = human_pos_ratings[\"pos_human\"] + 3 # will be a 1 to 5 scale\n",
    "human_pos_ratings = human_pos_ratings.loc[human_pos_ratings[\"source\"].isin([\"Experts\", \"Crowd\"])]\n",
    "human_ratings_grouped = (\n",
    "    human_pos_ratings.groupby([\"id\", \"source\", \"policy_area\", \"party\", \"year\", \"sentence_text\"], as_index=False)\n",
    "    .agg(\n",
    "        n_annotators=(\"label\", \"count\"),\n",
    "        label_mean=(\"label\", \"mean\"),\n",
    "        label_std=(\"label\", \"std\"),\n",
    "    )\n",
    ")\n",
    "human_ratings_grouped[\"label_ordinal\"] = human_ratings_grouped[\"label_mean\"].round().astype(int)"
   ]
  },
  {
   "cell_type": "code",
   "execution_count": 7,
   "id": "dd468f6c",
   "metadata": {},
   "outputs": [],
   "source": [
    "human_ratings_grouped.to_json(\"british-party-manifestos/processed/manifestos_grouped.jsonl\", orient=\"records\", lines=True)"
   ]
  },
  {
   "cell_type": "markdown",
   "id": "9e3d3441",
   "metadata": {},
   "source": [
    "### Filter down to high-agreement expert cases"
   ]
  },
  {
   "cell_type": "code",
   "execution_count": 8,
   "id": "e4d5dfee",
   "metadata": {},
   "outputs": [],
   "source": [
    "MIN_ANNOTATORS_PER_ITEM = 3\n",
    "MAX_STD_PER_ITEM = 0.5\n",
    "\n",
    "# filter to Experts and items within the thresholds\n",
    "high_agreement_expert_ratings = human_ratings_grouped.loc[\n",
    "    (human_ratings_grouped[\"n_annotators\"] >= MIN_ANNOTATORS_PER_ITEM)\n",
    "    & (human_ratings_grouped[\"label_std\"] <= MAX_STD_PER_ITEM)\n",
    "    & (human_ratings_grouped[\"source\"] == \"Experts\")\n",
    "]\n",
    "\n",
    "len(high_agreement_expert_ratings)\n",
    "\n",
    "human_ratings_filtered = human_ratings_grouped.loc[\n",
    "    human_ratings_grouped[\"id\"].isin(high_agreement_expert_ratings[\"id\"])\n",
    "]"
   ]
  },
  {
   "cell_type": "code",
   "execution_count": 9,
   "id": "a7f37030",
   "metadata": {},
   "outputs": [],
   "source": [
    "joint_ids = human_ratings_filtered.groupby([\"id\", \"policy_area\"], as_index=False).agg({\"source\": \"nunique\"})\n",
    "joint_ids = joint_ids[joint_ids[\"source\"] == 2]\n",
    "\n",
    "human_ratings_filtered = human_ratings_filtered.merge(\n",
    "    joint_ids[[\"id\", \"policy_area\"]], on=[\"id\", \"policy_area\"], how=\"inner\"\n",
    ")"
   ]
  },
  {
   "cell_type": "code",
   "execution_count": 10,
   "id": "87654d99",
   "metadata": {},
   "outputs": [],
   "source": [
    "crowd_expert_diffs = human_ratings_filtered.groupby([\"id\", \"policy_area\"]).apply(\n",
    "    lambda x: np.abs(\n",
    "        x[x[\"source\"] == \"Experts\"][\"label_mean\"].values[0]\n",
    "        - x[x[\"source\"] == \"Crowd\"][\"label_mean\"].values[0]\n",
    "    ),\n",
    ")"
   ]
  },
  {
   "cell_type": "code",
   "execution_count": 11,
   "id": "51f832e6",
   "metadata": {},
   "outputs": [
    {
     "data": {
      "text/plain": [
       "<Axes: >"
      ]
     },
     "execution_count": 11,
     "metadata": {},
     "output_type": "execute_result"
    },
    {
     "data": {
      "image/png": "[encoded data removed]",
      "text/plain": [
       "<Figure size 640x480 with 1 Axes>"
      ]
     },
     "metadata": {},
     "output_type": "display_data"
    }
   ],
   "source": [
    "crowd_expert_diffs.hist(bins=10)"
   ]
  },
  {
   "cell_type": "code",
   "execution_count": 12,
   "id": "09a43f57",
   "metadata": {},
   "outputs": [],
   "source": [
    "human_ratings_filtered.to_json(\n",
    "    \"british-party-manifestos/processed/manifestos_filtered.jsonl\", orient=\"records\", lines=True\n",
    ")"
   ]
  }
 ],
 "metadata": {
  "kernelspec": {
   "display_name": "py311",
   "language": "python",
   "name": "python3"
  },
  "language_info": {
   "codemirror_mode": {
    "name": "ipython",
    "version": 3
   },
   "file_extension": ".py",
   "mimetype": "text/x-python",
   "name": "python",
   "nbconvert_exporter": "python",
   "pygments_lexer": "ipython3",
   "version": "3.11.0"
  },
  "toc": {
   "base_numbering": 1,
   "nav_menu": {},
   "number_sections": true,
   "sideBar": true,
   "skip_h1_title": false,
   "title_cell": "Table of Contents",
   "title_sidebar": "Contents",
   "toc_cell": false,
   "toc_position": {},
   "toc_section_display": true,
   "toc_window_display": false
  }
 },
 "nbformat": 4,
 "nbformat_minor": 5
}
